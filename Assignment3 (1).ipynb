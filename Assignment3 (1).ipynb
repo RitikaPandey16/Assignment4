{
 "cells": [
  {
   "cell_type": "code",
   "execution_count": 3,
   "id": "3ef02a3f-7b91-4896-934d-42798f6476bb",
   "metadata": {},
   "outputs": [
    {
     "name": "stdout",
     "output_type": "stream",
     "text": [
      "Car: Toyota Corolla, Year: 2020\n",
      "Car: Honda Civic, Year: 2021\n"
     ]
    }
   ],
   "source": [
    "#Q1 Explain Class and Object with respect to Object-Oriented Programming. Give a suitable example.\n",
    "'''Class:\n",
    "A class is a blueprint or a template that defines the properties (attributes) and\n",
    "behaviors (methods) that the objects created from the class will have.\n",
    "Object:\n",
    "An object is an instance of a class. It represents a specific realization of the class,\n",
    "with its own unique set of attribute values. Objects interact with each other through methods.'''\n",
    "# Defining a Class\n",
    "class Car:\n",
    "    # Constructor to initialize attributes\n",
    "    def __init__(self, brand, model, year):\n",
    "        self.brand = brand  # Attribute for car brand\n",
    "        self.model = model  # Attribute for car model\n",
    "        self.year = year    # Attribute for car manufacturing year\n",
    "\n",
    "    # Method to display car details\n",
    "    def display_details(self):\n",
    "        print(f\"Car: {self.brand} {self.model}, Year: {self.year}\")\n",
    "\n",
    "# Creating Objects (Instances of the Class)\n",
    "car1 = Car(\"Toyota\", \"Corolla\", 2020)\n",
    "car2 = Car(\"Honda\", \"Civic\", 2021)\n",
    "\n",
    "# Accessing Object Methods\n",
    "car1.display_details()\n",
    "car2.display_details()\n"
   ]
  },
  {
   "cell_type": "code",
   "execution_count": 5,
   "id": "6cef45c0-0926-453e-916e-2cbebb0d5ab0",
   "metadata": {},
   "outputs": [
    {
     "data": {
      "text/plain": [
       "'four pillars of oops are :\\n    1.Encapsulation\\n    2.Polymorphism\\n    3.Abstraction\\n    4.Inheritance'"
      ]
     },
     "execution_count": 5,
     "metadata": {},
     "output_type": "execute_result"
    }
   ],
   "source": [
    "#Q2 Name the four pillars of OOPs.\n",
    "'''four pillars of oops are :\n",
    "    1.Encapsulation\n",
    "    2.Polymorphism\n",
    "    3.Abstraction\n",
    "    4.Inheritance'''\n"
   ]
  },
  {
   "cell_type": "code",
   "execution_count": 7,
   "id": "8d385e71-ec7c-4a03-a13a-0100ebe13df7",
   "metadata": {},
   "outputs": [
    {
     "name": "stdout",
     "output_type": "stream",
     "text": [
      "Name: Alice, Roll No: 101, Grade: A\n",
      "Name: Bob, Roll No: 102, Grade: B\n"
     ]
    }
   ],
   "source": [
    "#Q3 Explain why the __init__() function is used. Give a suitable example.\n",
    "'''The __init__() function in Python is a special method, also known as a constructor,\n",
    "used to initialize the attributes of a class when an object is created. It allows you to\n",
    "set up the initial state of an object and ensures that it is ready to use with predefined values.'''\n",
    "class Student:\n",
    "    def __init__(self, name, roll_no, grade):\n",
    "        self.name = name        # Initializing the 'name' attribute\n",
    "        self.roll_no = roll_no  # Initializing the 'roll_no' attribute\n",
    "        self.grade = grade      # Initializing the 'grade' attribute\n",
    "\n",
    "    def display_info(self):\n",
    "        print(f\"Name: {self.name}, Roll No: {self.roll_no}, Grade: {self.grade}\")\n",
    "\n",
    "\n",
    "# Creating objects\n",
    "student1 = Student(\"Alice\", 101, \"A\")\n",
    "student2 = Student(\"Bob\", 102, \"B\")\n",
    "\n",
    "# Displaying object information\n",
    "student1.display_info()\n",
    "student2.display_info()\n"
   ]
  },
  {
   "cell_type": "code",
   "execution_count": 9,
   "id": "351e23ce-bed0-4524-bd8d-9775326c92ae",
   "metadata": {},
   "outputs": [
    {
     "data": {
      "text/plain": [
       "'self is a special keyword used in class methods to refer to the instance (object)\\n    of the class through which the method is called. It acts as a reference to the current\\n    object, allowing access to its attributes and methods.'"
      ]
     },
     "execution_count": 9,
     "metadata": {},
     "output_type": "execute_result"
    }
   ],
   "source": [
    "#Q4 Why self is used in OOPs?\n",
    "'''self is a special keyword used in class methods to refer to the instance (object)\n",
    "    of the class through which the method is called. It acts as a reference to the current\n",
    "    object, allowing access to its attributes and methods.'''"
   ]
  },
  {
   "cell_type": "code",
   "execution_count": 11,
   "id": "8cad71b9-f7bf-4358-8e4c-1c0dc481b0f6",
   "metadata": {},
   "outputs": [
    {
     "name": "stdout",
     "output_type": "stream",
     "text": [
      "I am an animal.\n",
      "Woof! Woof!\n"
     ]
    }
   ],
   "source": [
    "#Q5 What is inheritance? Give an example for each type of inheritance.\n",
    "'''Inheritance is a fundamental concept in Object-Oriented Programming (OOP) that allows\n",
    "    a class (child class or derived class) to acquire the properties (attributes) and behaviors\n",
    "    (methods) of another class (parent class or base class). It promotes code reuse and establishes\n",
    "    a natural hierarchy among classes.\n",
    "\n",
    "Types of Inheritance with Examples\n",
    "1. Single Inheritance\n",
    "In single inheritance, a child class inherits from a single parent class.'''\n",
    "# Parent Class\n",
    "class Animal:\n",
    "    def speak(self):\n",
    "        print(\"I am an animal.\")\n",
    "\n",
    "# Child Class\n",
    "class Dog(Animal):\n",
    "    def bark(self):\n",
    "        print(\"Woof! Woof!\")\n",
    "\n",
    "# Example\n",
    "dog = Dog()\n",
    "dog.speak()  # Inherited method\n",
    "dog.bark()   # Method of Dog class\n",
    "\n",
    "\n"
   ]
  },
  {
   "cell_type": "code",
   "execution_count": 13,
   "id": "3002eb4e-aaa0-41ae-8039-903fc0d3efa9",
   "metadata": {},
   "outputs": [
    {
     "name": "stdout",
     "output_type": "stream",
     "text": [
      "I have strong physical traits.\n",
      "I have a caring nature.\n",
      "I have my own unique skills.\n"
     ]
    }
   ],
   "source": [
    "# 2.Multiple Inheritance:-In multiple inheritance, a child class inherits from more than one parent class.\n",
    "# Parent Class 1\n",
    "class Father:\n",
    "    def traits(self):\n",
    "        print(\"I have strong physical traits.\")\n",
    "\n",
    "# Parent Class 2\n",
    "class Mother:\n",
    "    def nature(self):\n",
    "        print(\"I have a caring nature.\")\n",
    "\n",
    "# Child Class\n",
    "class Child(Father, Mother):\n",
    "    def skills(self):\n",
    "        print(\"I have my own unique skills.\")\n",
    "\n",
    "# Example\n",
    "child = Child()\n",
    "child.traits()  # Inherited from Father\n",
    "child.nature()  # Inherited from Mother\n",
    "child.skills()  # Method of Child class\n"
   ]
  },
  {
   "cell_type": "code",
   "execution_count": 17,
   "id": "8a19be21-9532-44c2-8ebe-96b8938ba64b",
   "metadata": {},
   "outputs": [
    {
     "name": "stdout",
     "output_type": "stream",
     "text": [
      "I make sounds.\n",
      "I walk on four legs.\n",
      "Woof! Woof!\n"
     ]
    }
   ],
   "source": [
    "# 3. Multilevel Inheritance :-In multilevel inheritance, a class inherits from a parent class, and another\n",
    "   # class inherits from the child class, forming a chain.\n",
    "# Parent Class\n",
    "class Animal:\n",
    "    def speak(self):\n",
    "        print(\"I make sounds.\")\n",
    "\n",
    "# Child Class\n",
    "class Mammal(Animal):\n",
    "    def walk(self):\n",
    "        print(\"I walk on four legs.\")\n",
    "\n",
    "# Grandchild Class\n",
    "class Dog(Mammal):\n",
    "    def bark(self):\n",
    "        print(\"Woof! Woof!\")\n",
    "\n",
    "# Example\n",
    "dog = Dog()\n",
    "dog.speak()  # Inherited from Animal\n",
    "dog.walk()   # Inherited from Mammal\n",
    "dog.bark()   # Method of Dog class\n"
   ]
  },
  {
   "cell_type": "code",
   "execution_count": null,
   "id": "91008ea7-6577-4aa1-9e6a-2ff48fa84084",
   "metadata": {},
   "outputs": [],
   "source": []
  }
 ],
 "metadata": {
  "kernelspec": {
   "display_name": "Python 3 (ipykernel)",
   "language": "python",
   "name": "python3"
  },
  "language_info": {
   "codemirror_mode": {
    "name": "ipython",
    "version": 3
   },
   "file_extension": ".py",
   "mimetype": "text/x-python",
   "name": "python",
   "nbconvert_exporter": "python",
   "pygments_lexer": "ipython3",
   "version": "3.12.4"
  }
 },
 "nbformat": 4,
 "nbformat_minor": 5
}
